{
 "cells": [
  {
   "cell_type": "code",
   "execution_count": 1,
   "id": "c9dd618d-2083-4133-b8f3-e50d6af5c3b6",
   "metadata": {},
   "outputs": [],
   "source": [
    "# 🎬 Movie Recommendation System (Collaborative + User-based)\n",
    "\n",
    "import pandas as pd\n",
    "import numpy as np\n",
    "from sklearn.metrics.pairwise import cosine_similarity\n",
    "from sklearn.metrics import mean_squared_error\n",
    "from sklearn.model_selection import train_test_split\n",
    "from math import sqrt"
   ]
  },
  {
   "cell_type": "code",
   "execution_count": 2,
   "id": "b4fab156-360a-40c7-815b-58748bc6379f",
   "metadata": {},
   "outputs": [
    {
     "name": "stdout",
     "output_type": "stream",
     "text": [
      "✅ Data loaded successfully\n",
      "Movies: (9742, 3)\n",
      "Ratings: (100836, 4)\n"
     ]
    }
   ],
   "source": [
    "#Step 1: Load datasets\n",
    "movies = pd.read_csv(\"movies.csv\")   # movieId, title, genres\n",
    "ratings = pd.read_csv(\"ratings.csv\") # userId, movieId, rating, timestamp\n",
    "\n",
    "print(\"✅ Data loaded successfully\")\n",
    "print(\"Movies:\", movies.shape)\n",
    "print(\"Ratings:\", ratings.shape)"
   ]
  },
  {
   "cell_type": "code",
   "execution_count": 3,
   "id": "2a3249ed-2626-485c-962f-ab08bcf6d8c4",
   "metadata": {},
   "outputs": [
    {
     "name": "stdout",
     "output_type": "stream",
     "text": [
      "✅ Data merged. Shape: (100836, 6)\n"
     ]
    }
   ],
   "source": [
    "#Step 2: Merge datasets\n",
    "data = pd.merge(ratings, movies, on=\"movieId\")\n",
    "print(\"✅ Data merged. Shape:\", data.shape)"
   ]
  },
  {
   "cell_type": "code",
   "execution_count": 5,
   "id": "5c3381cf-0558-431b-a8b5-e2a2a13488c5",
   "metadata": {},
   "outputs": [
    {
     "name": "stdout",
     "output_type": "stream",
     "text": [
      "✅ User-Movie matrix created. Shape: (610, 9719)\n"
     ]
    }
   ],
   "source": [
    "#Step 3: Create User-Movie Rating Matrix\n",
    "user_movie_matrix = data.pivot_table(index=\"userId\", columns=\"title\", values=\"rating\")\n",
    "print(\"✅ User-Movie matrix created. Shape:\", user_movie_matrix.shape)"
   ]
  },
  {
   "cell_type": "code",
   "execution_count": 6,
   "id": "99612b0d-c430-49da-9f88-9ee106eb4eec",
   "metadata": {},
   "outputs": [],
   "source": [
    "# Fill NaN with 0\n",
    "user_movie_matrix = user_movie_matrix.fillna(0)"
   ]
  },
  {
   "cell_type": "code",
   "execution_count": 7,
   "id": "513503e4-4f37-4156-9d61-e7360c7c7a82",
   "metadata": {},
   "outputs": [
    {
     "name": "stdout",
     "output_type": "stream",
     "text": [
      "✅ Similarity matrix ready!\n"
     ]
    }
   ],
   "source": [
    "#Step 4: Compute Movie Similarity (Item-Based CF)\n",
    "movie_similarity = cosine_similarity(user_movie_matrix.T)\n",
    "movie_similarity_df = pd.DataFrame(movie_similarity, index=user_movie_matrix.columns, columns=user_movie_matrix.columns)\n",
    "\n",
    "print(\"✅ Similarity matrix ready!\")\n"
   ]
  },
  {
   "cell_type": "code",
   "execution_count": 8,
   "id": "a1cdff2b-d815-48c0-b25c-ec41bd593873",
   "metadata": {},
   "outputs": [],
   "source": [
    "#Step 5: Movie Recommendation Function\n",
    "def recommend_movies(movie_name, num_recommendations=5):\n",
    "    if movie_name not in movie_similarity_df.columns:\n",
    "        print(\"❌ Movie not found in database.\")\n",
    "        return []\n",
    "\n",
    "    similar_scores = movie_similarity_df[movie_name].sort_values(ascending=False)\n",
    "    recommendations = similar_scores.iloc[1:num_recommendations+1].index.tolist()\n",
    "\n",
    "    print(f\"\\n🎬 Because you liked **{movie_name}**, you might also enjoy:\")\n",
    "    for i, rec in enumerate(recommendations, 1):\n",
    "        print(f\"{i}. {rec}\")\n",
    "    return recommendations"
   ]
  },
  {
   "cell_type": "code",
   "execution_count": 9,
   "id": "c9b33c76-7b00-4fa5-b919-ac39477b9e36",
   "metadata": {},
   "outputs": [],
   "source": [
    "#Step 6: User-Based Collaborative Filtering ---\n",
    "#Train-Test split for evaluation\n",
    "train, test = train_test_split(data, test_size=0.2, random_state=42)"
   ]
  },
  {
   "cell_type": "code",
   "execution_count": 10,
   "id": "e9b75b26-14fa-4930-b5b2-84ebfb1cbed1",
   "metadata": {},
   "outputs": [
    {
     "name": "stdout",
     "output_type": "stream",
     "text": [
      "✅ User similarity computed!\n"
     ]
    }
   ],
   "source": [
    "# Build user-item matrix for training\n",
    "train_matrix = train.pivot_table(index=\"userId\", columns=\"movieId\", values=\"rating\").fillna(0)\n",
    "user_similarity = cosine_similarity(train_matrix)\n",
    "user_similarity_df = pd.DataFrame(user_similarity, index=train_matrix.index, columns=train_matrix.index)\n",
    "\n",
    "print(\"✅ User similarity computed!\")"
   ]
  },
  {
   "cell_type": "code",
   "execution_count": 11,
   "id": "1eb2dc03-67d7-4479-b619-be3b69a5788a",
   "metadata": {},
   "outputs": [],
   "source": [
    "# Function to predict rating using user-based CF\n",
    "def predict_rating(user_id, movie_id):\n",
    "    if movie_id not in train_matrix.columns:\n",
    "        return 0\n",
    "\n",
    "    sim_scores = user_similarity_df[user_id]\n",
    "    ratings = train_matrix[movie_id]\n",
    "\n",
    "    # Weighted average of ratings\n",
    "    numerator = np.dot(sim_scores, ratings)\n",
    "    denominator = np.abs(sim_scores).sum()\n",
    "    if denominator == 0:\n",
    "        return 0\n",
    "    return numerator / denominator"
   ]
  },
  {
   "cell_type": "code",
   "execution_count": 12,
   "id": "fd0c1167-73bb-4a90-8735-afd8ff1a693c",
   "metadata": {},
   "outputs": [
    {
     "name": "stdout",
     "output_type": "stream",
     "text": [
      "\n",
      "📊 Model Evaluation: RMSE = 3.2249\n"
     ]
    }
   ],
   "source": [
    "#Step 7: Evaluate Model with RMSE\n",
    "y_true, y_pred = [], []\n",
    "for row in test.itertuples():\n",
    "    true_rating = row.rating\n",
    "    predicted = predict_rating(row.userId, row.movieId)\n",
    "    if predicted > 0:\n",
    "        y_true.append(true_rating)\n",
    "        y_pred.append(predicted)\n",
    "\n",
    "rmse = sqrt(mean_squared_error(y_true, y_pred))\n",
    "print(f\"\\n📊 Model Evaluation: RMSE = {rmse:.4f}\")"
   ]
  },
  {
   "cell_type": "code",
   "execution_count": 13,
   "id": "95a75484-8888-456b-ac6d-8e4bf49cb558",
   "metadata": {},
   "outputs": [
    {
     "name": "stdout",
     "output_type": "stream",
     "text": [
      "\n",
      "🎬 Because you liked **Toy Story (1995)**, you might also enjoy:\n",
      "1. Toy Story 2 (1999)\n",
      "2. Jurassic Park (1993)\n",
      "3. Independence Day (a.k.a. ID4) (1996)\n",
      "4. Star Wars: Episode IV - A New Hope (1977)\n",
      "5. Forrest Gump (1994)\n"
     ]
    },
    {
     "data": {
      "text/plain": [
       "['Toy Story 2 (1999)',\n",
       " 'Jurassic Park (1993)',\n",
       " 'Independence Day (a.k.a. ID4) (1996)',\n",
       " 'Star Wars: Episode IV - A New Hope (1977)',\n",
       " 'Forrest Gump (1994)']"
      ]
     },
     "execution_count": 13,
     "metadata": {},
     "output_type": "execute_result"
    }
   ],
   "source": [
    "#Step 8: Example Runs\n",
    "recommend_movies(\"Toy Story (1995)\", num_recommendations=5)"
   ]
  },
  {
   "cell_type": "code",
   "execution_count": 14,
   "id": "a6844002-6d68-47e2-a92d-14c7a40a2874",
   "metadata": {},
   "outputs": [
    {
     "name": "stdout",
     "output_type": "stream",
     "text": [
      "\n",
      "🎬 Because you liked **Jurassic Park (1993)**, you might also enjoy:\n",
      "1. Terminator 2: Judgment Day (1991)\n",
      "2. Forrest Gump (1994)\n",
      "3. Braveheart (1995)\n",
      "4. Fugitive, The (1993)\n",
      "5. Speed (1994)\n"
     ]
    },
    {
     "data": {
      "text/plain": [
       "['Terminator 2: Judgment Day (1991)',\n",
       " 'Forrest Gump (1994)',\n",
       " 'Braveheart (1995)',\n",
       " 'Fugitive, The (1993)',\n",
       " 'Speed (1994)']"
      ]
     },
     "execution_count": 14,
     "metadata": {},
     "output_type": "execute_result"
    }
   ],
   "source": [
    "recommend_movies(\"Jurassic Park (1993)\", num_recommendations=5)"
   ]
  },
  {
   "cell_type": "code",
   "execution_count": 15,
   "id": "11720733-e58a-45cd-9f73-62960046e14c",
   "metadata": {},
   "outputs": [
    {
     "name": "stdout",
     "output_type": "stream",
     "text": [
      "\n",
      "🎬 Because you liked **Richie Rich (1994)**, you might also enjoy:\n",
      "1. Next Karate Kid, The (1994)\n",
      "2. Jury Duty (1995)\n",
      "3. Son in Law (1993)\n",
      "4. RoboCop 3 (1993)\n",
      "5. Tom and Huck (1995)\n"
     ]
    },
    {
     "data": {
      "text/plain": [
       "['Next Karate Kid, The (1994)',\n",
       " 'Jury Duty (1995)',\n",
       " 'Son in Law (1993)',\n",
       " 'RoboCop 3 (1993)',\n",
       " 'Tom and Huck (1995)']"
      ]
     },
     "execution_count": 15,
     "metadata": {},
     "output_type": "execute_result"
    }
   ],
   "source": [
    "recommend_movies(\"Richie Rich (1994)\", num_recommendations=5)"
   ]
  },
  {
   "cell_type": "code",
   "execution_count": 16,
   "id": "c4a22405-622d-41b7-825c-30175c104591",
   "metadata": {},
   "outputs": [
    {
     "name": "stdout",
     "output_type": "stream",
     "text": [
      "\n",
      "⭐ Predicted rating of user 1 for movieId 1: 1.46\n"
     ]
    }
   ],
   "source": [
    "# Predict a rating for a user\n",
    "sample_user = 1\n",
    "sample_movie = 1  # movieId = 1 -> Toy Story\n",
    "pred = predict_rating(sample_user, sample_movie)\n",
    "print(f\"\\n⭐ Predicted rating of user {sample_user} for movieId {sample_movie}: {pred:.2f}\")"
   ]
  },
  {
   "cell_type": "code",
   "execution_count": null,
   "id": "d22f63de-1a0b-41b2-888b-5d40fd68b682",
   "metadata": {},
   "outputs": [],
   "source": []
  }
 ],
 "metadata": {
  "kernelspec": {
   "display_name": "Python 3 (ipykernel)",
   "language": "python",
   "name": "python3"
  },
  "language_info": {
   "codemirror_mode": {
    "name": "ipython",
    "version": 3
   },
   "file_extension": ".py",
   "mimetype": "text/x-python",
   "name": "python",
   "nbconvert_exporter": "python",
   "pygments_lexer": "ipython3",
   "version": "3.9.13"
  }
 },
 "nbformat": 4,
 "nbformat_minor": 5
}
